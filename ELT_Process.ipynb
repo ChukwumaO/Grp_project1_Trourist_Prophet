{
 "cells": [
  {
   "cell_type": "markdown",
   "id": "bd743ec2-a8e6-42dc-a6c7-113e284335e4",
   "metadata": {},
   "source": [
    "# ELT Process"
   ]
  },
  {
   "cell_type": "markdown",
   "id": "c10a32c4-c94d-4571-b6f7-216bfe7e5007",
   "metadata": {
    "tags": []
   },
   "source": [
    "### Libraries"
   ]
  },
  {
   "cell_type": "code",
   "execution_count": 1,
   "id": "06faf236-0a32-409c-94ae-b3ed9c2cd947",
   "metadata": {},
   "outputs": [],
   "source": [
    "import pandas as pd\n",
    "from pathlib import Path\n",
    "import sqlalchemy as sql"
   ]
  },
  {
   "cell_type": "markdown",
   "id": "039905be-78ad-42ec-a6dd-41ea3da2ed58",
   "metadata": {
    "tags": []
   },
   "source": [
    "## Portugal Data"
   ]
  },
  {
   "cell_type": "markdown",
   "id": "fb06a150-8fb4-4155-befe-1eccde1f894d",
   "metadata": {},
   "source": [
    "DataSource: https://tradingeconomics.com/portugal/tourist-arrivals"
   ]
  },
  {
   "cell_type": "code",
   "execution_count": 2,
   "id": "7541faa2-7e32-4830-8bc8-5e7b0a66318b",
   "metadata": {},
   "outputs": [
    {
     "data": {
      "text/html": [
       "<div>\n",
       "<style scoped>\n",
       "    .dataframe tbody tr th:only-of-type {\n",
       "        vertical-align: middle;\n",
       "    }\n",
       "\n",
       "    .dataframe tbody tr th {\n",
       "        vertical-align: top;\n",
       "    }\n",
       "\n",
       "    .dataframe thead th {\n",
       "        text-align: right;\n",
       "    }\n",
       "</style>\n",
       "<table border=\"1\" class=\"dataframe\">\n",
       "  <thead>\n",
       "    <tr style=\"text-align: right;\">\n",
       "      <th></th>\n",
       "      <th>Country</th>\n",
       "      <th>Category</th>\n",
       "      <th>DateTime</th>\n",
       "      <th>Value</th>\n",
       "      <th>Frequency</th>\n",
       "      <th>HistoricalDataSymbol</th>\n",
       "      <th>LastUpdate</th>\n",
       "    </tr>\n",
       "  </thead>\n",
       "  <tbody>\n",
       "    <tr>\n",
       "      <th>0</th>\n",
       "      <td>Portugal</td>\n",
       "      <td>Tourist Arrivals</td>\n",
       "      <td>1964-01-31T00:00:00</td>\n",
       "      <td>90000</td>\n",
       "      <td>Monthly</td>\n",
       "      <td>PORTUGALTOUARR</td>\n",
       "      <td>2015-08-21T14:52:00</td>\n",
       "    </tr>\n",
       "    <tr>\n",
       "      <th>1</th>\n",
       "      <td>Portugal</td>\n",
       "      <td>Tourist Arrivals</td>\n",
       "      <td>1964-02-29T00:00:00</td>\n",
       "      <td>105000</td>\n",
       "      <td>Monthly</td>\n",
       "      <td>PORTUGALTOUARR</td>\n",
       "      <td>2015-08-21T14:52:00</td>\n",
       "    </tr>\n",
       "    <tr>\n",
       "      <th>2</th>\n",
       "      <td>Portugal</td>\n",
       "      <td>Tourist Arrivals</td>\n",
       "      <td>1964-03-31T00:00:00</td>\n",
       "      <td>154000</td>\n",
       "      <td>Monthly</td>\n",
       "      <td>PORTUGALTOUARR</td>\n",
       "      <td>2015-08-21T14:52:00</td>\n",
       "    </tr>\n",
       "    <tr>\n",
       "      <th>3</th>\n",
       "      <td>Portugal</td>\n",
       "      <td>Tourist Arrivals</td>\n",
       "      <td>1964-04-30T00:00:00</td>\n",
       "      <td>166000</td>\n",
       "      <td>Monthly</td>\n",
       "      <td>PORTUGALTOUARR</td>\n",
       "      <td>2015-08-21T14:52:00</td>\n",
       "    </tr>\n",
       "    <tr>\n",
       "      <th>4</th>\n",
       "      <td>Portugal</td>\n",
       "      <td>Tourist Arrivals</td>\n",
       "      <td>1964-05-31T00:00:00</td>\n",
       "      <td>295000</td>\n",
       "      <td>Monthly</td>\n",
       "      <td>PORTUGALTOUARR</td>\n",
       "      <td>2015-08-21T14:52:00</td>\n",
       "    </tr>\n",
       "  </tbody>\n",
       "</table>\n",
       "</div>"
      ],
      "text/plain": [
       "    Country          Category             DateTime   Value Frequency  \\\n",
       "0  Portugal  Tourist Arrivals  1964-01-31T00:00:00   90000   Monthly   \n",
       "1  Portugal  Tourist Arrivals  1964-02-29T00:00:00  105000   Monthly   \n",
       "2  Portugal  Tourist Arrivals  1964-03-31T00:00:00  154000   Monthly   \n",
       "3  Portugal  Tourist Arrivals  1964-04-30T00:00:00  166000   Monthly   \n",
       "4  Portugal  Tourist Arrivals  1964-05-31T00:00:00  295000   Monthly   \n",
       "\n",
       "  HistoricalDataSymbol           LastUpdate  \n",
       "0       PORTUGALTOUARR  2015-08-21T14:52:00  \n",
       "1       PORTUGALTOUARR  2015-08-21T14:52:00  \n",
       "2       PORTUGALTOUARR  2015-08-21T14:52:00  \n",
       "3       PORTUGALTOUARR  2015-08-21T14:52:00  \n",
       "4       PORTUGALTOUARR  2015-08-21T14:52:00  "
      ]
     },
     "execution_count": 2,
     "metadata": {},
     "output_type": "execute_result"
    }
   ],
   "source": [
    "# Upload data from the CSV\n",
    "portugal_df = pd.read_csv(Path('Data/portugal_data.csv'))\n",
    "portugal_df.head()"
   ]
  },
  {
   "cell_type": "code",
   "execution_count": 3,
   "id": "89fb24df-7af8-48f9-81cc-aaef91186511",
   "metadata": {},
   "outputs": [
    {
     "name": "stdout",
     "output_type": "stream",
     "text": [
      "<class 'pandas.core.frame.DataFrame'>\n",
      "RangeIndex: 700 entries, 0 to 699\n",
      "Data columns (total 7 columns):\n",
      " #   Column                Non-Null Count  Dtype \n",
      "---  ------                --------------  ----- \n",
      " 0   Country               700 non-null    object\n",
      " 1   Category              700 non-null    object\n",
      " 2   DateTime              700 non-null    object\n",
      " 3   Value                 700 non-null    int64 \n",
      " 4   Frequency             700 non-null    object\n",
      " 5   HistoricalDataSymbol  700 non-null    object\n",
      " 6   LastUpdate            700 non-null    object\n",
      "dtypes: int64(1), object(6)\n",
      "memory usage: 38.4+ KB\n"
     ]
    }
   ],
   "source": [
    "# Verify Variables\n",
    "portugal_df.info()"
   ]
  },
  {
   "cell_type": "code",
   "execution_count": 4,
   "id": "e5fe70ba-ec98-4b7c-9bc4-bdaf9d8061f5",
   "metadata": {},
   "outputs": [
    {
     "data": {
      "text/html": [
       "<div>\n",
       "<style scoped>\n",
       "    .dataframe tbody tr th:only-of-type {\n",
       "        vertical-align: middle;\n",
       "    }\n",
       "\n",
       "    .dataframe tbody tr th {\n",
       "        vertical-align: top;\n",
       "    }\n",
       "\n",
       "    .dataframe thead th {\n",
       "        text-align: right;\n",
       "    }\n",
       "</style>\n",
       "<table border=\"1\" class=\"dataframe\">\n",
       "  <thead>\n",
       "    <tr style=\"text-align: right;\">\n",
       "      <th></th>\n",
       "      <th>Country</th>\n",
       "      <th>Category</th>\n",
       "      <th>DateTime</th>\n",
       "      <th>Value</th>\n",
       "      <th>Frequency</th>\n",
       "      <th>HistoricalDataSymbol</th>\n",
       "      <th>LastUpdate</th>\n",
       "      <th>Date</th>\n",
       "    </tr>\n",
       "  </thead>\n",
       "  <tbody>\n",
       "    <tr>\n",
       "      <th>0</th>\n",
       "      <td>Portugal</td>\n",
       "      <td>Tourist Arrivals</td>\n",
       "      <td>1964-01-31T00:00:00</td>\n",
       "      <td>90000</td>\n",
       "      <td>Monthly</td>\n",
       "      <td>PORTUGALTOUARR</td>\n",
       "      <td>2015-08-21T14:52:00</td>\n",
       "      <td>1964-01-31</td>\n",
       "    </tr>\n",
       "    <tr>\n",
       "      <th>1</th>\n",
       "      <td>Portugal</td>\n",
       "      <td>Tourist Arrivals</td>\n",
       "      <td>1964-02-29T00:00:00</td>\n",
       "      <td>105000</td>\n",
       "      <td>Monthly</td>\n",
       "      <td>PORTUGALTOUARR</td>\n",
       "      <td>2015-08-21T14:52:00</td>\n",
       "      <td>1964-02-29</td>\n",
       "    </tr>\n",
       "    <tr>\n",
       "      <th>2</th>\n",
       "      <td>Portugal</td>\n",
       "      <td>Tourist Arrivals</td>\n",
       "      <td>1964-03-31T00:00:00</td>\n",
       "      <td>154000</td>\n",
       "      <td>Monthly</td>\n",
       "      <td>PORTUGALTOUARR</td>\n",
       "      <td>2015-08-21T14:52:00</td>\n",
       "      <td>1964-03-31</td>\n",
       "    </tr>\n",
       "    <tr>\n",
       "      <th>3</th>\n",
       "      <td>Portugal</td>\n",
       "      <td>Tourist Arrivals</td>\n",
       "      <td>1964-04-30T00:00:00</td>\n",
       "      <td>166000</td>\n",
       "      <td>Monthly</td>\n",
       "      <td>PORTUGALTOUARR</td>\n",
       "      <td>2015-08-21T14:52:00</td>\n",
       "      <td>1964-04-30</td>\n",
       "    </tr>\n",
       "    <tr>\n",
       "      <th>4</th>\n",
       "      <td>Portugal</td>\n",
       "      <td>Tourist Arrivals</td>\n",
       "      <td>1964-05-31T00:00:00</td>\n",
       "      <td>295000</td>\n",
       "      <td>Monthly</td>\n",
       "      <td>PORTUGALTOUARR</td>\n",
       "      <td>2015-08-21T14:52:00</td>\n",
       "      <td>1964-05-31</td>\n",
       "    </tr>\n",
       "  </tbody>\n",
       "</table>\n",
       "</div>"
      ],
      "text/plain": [
       "    Country          Category             DateTime   Value Frequency  \\\n",
       "0  Portugal  Tourist Arrivals  1964-01-31T00:00:00   90000   Monthly   \n",
       "1  Portugal  Tourist Arrivals  1964-02-29T00:00:00  105000   Monthly   \n",
       "2  Portugal  Tourist Arrivals  1964-03-31T00:00:00  154000   Monthly   \n",
       "3  Portugal  Tourist Arrivals  1964-04-30T00:00:00  166000   Monthly   \n",
       "4  Portugal  Tourist Arrivals  1964-05-31T00:00:00  295000   Monthly   \n",
       "\n",
       "  HistoricalDataSymbol           LastUpdate       Date  \n",
       "0       PORTUGALTOUARR  2015-08-21T14:52:00 1964-01-31  \n",
       "1       PORTUGALTOUARR  2015-08-21T14:52:00 1964-02-29  \n",
       "2       PORTUGALTOUARR  2015-08-21T14:52:00 1964-03-31  \n",
       "3       PORTUGALTOUARR  2015-08-21T14:52:00 1964-04-30  \n",
       "4       PORTUGALTOUARR  2015-08-21T14:52:00 1964-05-31  "
      ]
     },
     "execution_count": 4,
     "metadata": {},
     "output_type": "execute_result"
    }
   ],
   "source": [
    "#Transform Object to Date\n",
    "portugal_df['Date'] = pd.to_datetime(portugal_df['DateTime'])\n",
    "portugal_df.head()"
   ]
  },
  {
   "cell_type": "code",
   "execution_count": 5,
   "id": "9da5fb5a-de4c-4f20-9aa4-ee5b4893e9c7",
   "metadata": {},
   "outputs": [
    {
     "data": {
      "text/html": [
       "<div>\n",
       "<style scoped>\n",
       "    .dataframe tbody tr th:only-of-type {\n",
       "        vertical-align: middle;\n",
       "    }\n",
       "\n",
       "    .dataframe tbody tr th {\n",
       "        vertical-align: top;\n",
       "    }\n",
       "\n",
       "    .dataframe thead th {\n",
       "        text-align: right;\n",
       "    }\n",
       "</style>\n",
       "<table border=\"1\" class=\"dataframe\">\n",
       "  <thead>\n",
       "    <tr style=\"text-align: right;\">\n",
       "      <th></th>\n",
       "      <th>Country</th>\n",
       "      <th>Value</th>\n",
       "      <th>Date</th>\n",
       "    </tr>\n",
       "  </thead>\n",
       "  <tbody>\n",
       "    <tr>\n",
       "      <th>0</th>\n",
       "      <td>Portugal</td>\n",
       "      <td>90000</td>\n",
       "      <td>1964-01-31</td>\n",
       "    </tr>\n",
       "    <tr>\n",
       "      <th>1</th>\n",
       "      <td>Portugal</td>\n",
       "      <td>105000</td>\n",
       "      <td>1964-02-29</td>\n",
       "    </tr>\n",
       "    <tr>\n",
       "      <th>2</th>\n",
       "      <td>Portugal</td>\n",
       "      <td>154000</td>\n",
       "      <td>1964-03-31</td>\n",
       "    </tr>\n",
       "    <tr>\n",
       "      <th>3</th>\n",
       "      <td>Portugal</td>\n",
       "      <td>166000</td>\n",
       "      <td>1964-04-30</td>\n",
       "    </tr>\n",
       "    <tr>\n",
       "      <th>4</th>\n",
       "      <td>Portugal</td>\n",
       "      <td>295000</td>\n",
       "      <td>1964-05-31</td>\n",
       "    </tr>\n",
       "  </tbody>\n",
       "</table>\n",
       "</div>"
      ],
      "text/plain": [
       "    Country   Value       Date\n",
       "0  Portugal   90000 1964-01-31\n",
       "1  Portugal  105000 1964-02-29\n",
       "2  Portugal  154000 1964-03-31\n",
       "3  Portugal  166000 1964-04-30\n",
       "4  Portugal  295000 1964-05-31"
      ]
     },
     "execution_count": 5,
     "metadata": {},
     "output_type": "execute_result"
    }
   ],
   "source": [
    "#Drop columns to keep main information\n",
    "portugal_df = portugal_df.drop(['Category','DateTime','Frequency','HistoricalDataSymbol','LastUpdate'],axis = 1)\n",
    "portugal_df.head()"
   ]
  },
  {
   "cell_type": "code",
   "execution_count": 6,
   "id": "0c322e02-1413-462c-9e2b-49f9e396464c",
   "metadata": {},
   "outputs": [],
   "source": [
    "#Final Dataframe based on data after 2002"
   ]
  },
  {
   "cell_type": "code",
   "execution_count": 7,
   "id": "50fcf9ec-e55a-4a9b-a4c4-b88450a4ce42",
   "metadata": {},
   "outputs": [
    {
     "data": {
      "text/html": [
       "<div>\n",
       "<style scoped>\n",
       "    .dataframe tbody tr th:only-of-type {\n",
       "        vertical-align: middle;\n",
       "    }\n",
       "\n",
       "    .dataframe tbody tr th {\n",
       "        vertical-align: top;\n",
       "    }\n",
       "\n",
       "    .dataframe thead th {\n",
       "        text-align: right;\n",
       "    }\n",
       "</style>\n",
       "<table border=\"1\" class=\"dataframe\">\n",
       "  <thead>\n",
       "    <tr style=\"text-align: right;\">\n",
       "      <th></th>\n",
       "      <th>Country</th>\n",
       "      <th>y</th>\n",
       "      <th>ds</th>\n",
       "    </tr>\n",
       "  </thead>\n",
       "  <tbody>\n",
       "    <tr>\n",
       "      <th>0</th>\n",
       "      <td>Portugal</td>\n",
       "      <td>1003000</td>\n",
       "      <td>2002-01-31</td>\n",
       "    </tr>\n",
       "    <tr>\n",
       "      <th>1</th>\n",
       "      <td>Portugal</td>\n",
       "      <td>1301000</td>\n",
       "      <td>2002-02-28</td>\n",
       "    </tr>\n",
       "    <tr>\n",
       "      <th>2</th>\n",
       "      <td>Portugal</td>\n",
       "      <td>1924000</td>\n",
       "      <td>2002-03-31</td>\n",
       "    </tr>\n",
       "    <tr>\n",
       "      <th>3</th>\n",
       "      <td>Portugal</td>\n",
       "      <td>1845000</td>\n",
       "      <td>2002-04-30</td>\n",
       "    </tr>\n",
       "    <tr>\n",
       "      <th>4</th>\n",
       "      <td>Portugal</td>\n",
       "      <td>2290000</td>\n",
       "      <td>2002-05-31</td>\n",
       "    </tr>\n",
       "  </tbody>\n",
       "</table>\n",
       "</div>"
      ],
      "text/plain": [
       "    Country        y         ds\n",
       "0  Portugal  1003000 2002-01-31\n",
       "1  Portugal  1301000 2002-02-28\n",
       "2  Portugal  1924000 2002-03-31\n",
       "3  Portugal  1845000 2002-04-30\n",
       "4  Portugal  2290000 2002-05-31"
      ]
     },
     "execution_count": 7,
     "metadata": {},
     "output_type": "execute_result"
    }
   ],
   "source": [
    "portugal_df = portugal_df[portugal_df['Date']>'2001-12-31']\n",
    "portugal_df.reset_index(drop=True,inplace = True)\n",
    "portugal_df = portugal_df.rename(columns = {'Value':'y',\n",
    "                                           'Date':'ds'})\n",
    "portugal_df.head()"
   ]
  },
  {
   "cell_type": "code",
   "execution_count": 8,
   "id": "9802c5c9-33f9-4a3a-b9b6-c7a3bbda8a2a",
   "metadata": {},
   "outputs": [
    {
     "name": "stdout",
     "output_type": "stream",
     "text": [
      "<class 'pandas.core.frame.DataFrame'>\n",
      "RangeIndex: 244 entries, 0 to 243\n",
      "Data columns (total 3 columns):\n",
      " #   Column   Non-Null Count  Dtype         \n",
      "---  ------   --------------  -----         \n",
      " 0   Country  244 non-null    object        \n",
      " 1   y        244 non-null    int64         \n",
      " 2   ds       244 non-null    datetime64[ns]\n",
      "dtypes: datetime64[ns](1), int64(1), object(1)\n",
      "memory usage: 5.8+ KB\n"
     ]
    }
   ],
   "source": [
    "portugal_df.info()"
   ]
  },
  {
   "cell_type": "code",
   "execution_count": 9,
   "id": "4c3124c5-9555-48e9-bfc7-2bc8e8a2af61",
   "metadata": {},
   "outputs": [],
   "source": [
    "data = portugal_df"
   ]
  },
  {
   "cell_type": "code",
   "execution_count": null,
   "id": "e6b2f109-434a-469f-bc68-4e59b7f27d36",
   "metadata": {},
   "outputs": [],
   "source": []
  },
  {
   "cell_type": "code",
   "execution_count": null,
   "id": "6f72112f-b0b5-47c9-9930-7debc1e6bc09",
   "metadata": {},
   "outputs": [],
   "source": []
  },
  {
   "cell_type": "code",
   "execution_count": null,
   "id": "e854bfd0-91cf-4b0c-a2be-328376ee35b6",
   "metadata": {},
   "outputs": [],
   "source": []
  },
  {
   "cell_type": "code",
   "execution_count": null,
   "id": "3efd2008-7691-4c81-881e-9a58dfc6671b",
   "metadata": {},
   "outputs": [],
   "source": []
  },
  {
   "cell_type": "code",
   "execution_count": null,
   "id": "e96cae7d-4fc4-44f5-b91e-f61b92fa7d13",
   "metadata": {},
   "outputs": [],
   "source": []
  },
  {
   "cell_type": "markdown",
   "id": "0ccb682b-7413-44e0-9711-b82c2b97cbec",
   "metadata": {
    "tags": []
   },
   "source": [
    "## Database"
   ]
  },
  {
   "cell_type": "code",
   "execution_count": 10,
   "id": "53b11753-ec52-469a-8f40-4078d11e7a95",
   "metadata": {},
   "outputs": [],
   "source": [
    "#Database Connection String\n",
    "database_connection_string = 'sqlite:///Resources/tourism_data.db'\n",
    "#Create Engine\n",
    "engine = sql.create_engine(database_connection_string)"
   ]
  },
  {
   "cell_type": "code",
   "execution_count": 11,
   "id": "61e4082e-3a0b-4d3e-a88a-69eb0b7f3ed5",
   "metadata": {},
   "outputs": [],
   "source": [
    "data.to_sql('tourism_data',engine, index = False, if_exists='replace')"
   ]
  },
  {
   "cell_type": "code",
   "execution_count": null,
   "id": "27ad56dc-8342-4bf6-92e8-c4ed88db7980",
   "metadata": {},
   "outputs": [],
   "source": []
  }
 ],
 "metadata": {
  "kernelspec": {
   "display_name": "FinTech",
   "language": "python",
   "name": "fintech"
  },
  "language_info": {
   "codemirror_mode": {
    "name": "ipython",
    "version": 3
   },
   "file_extension": ".py",
   "mimetype": "text/x-python",
   "name": "python",
   "nbconvert_exporter": "python",
   "pygments_lexer": "ipython3",
   "version": "3.7.11"
  }
 },
 "nbformat": 4,
 "nbformat_minor": 5
}
